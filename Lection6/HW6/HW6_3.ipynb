{
 "cells": [
  {
   "cell_type": "code",
   "execution_count": 1,
   "id": "7c7af84d-18fd-42c0-9c2e-c1270b27293d",
   "metadata": {},
   "outputs": [],
   "source": [
    "import numpy as np\n",
    "import pandas as pd\n",
    "\n",
    "import catboost as ctb\n",
    "\n",
    "from sklearn.model_selection import train_test_split\n",
    "from sklearn.metrics import recall_score, precision_score, roc_auc_score, accuracy_score, f1_score\n"
   ]
  },
  {
   "cell_type": "code",
   "execution_count": 2,
   "id": "2e70ed06-fbf3-46f9-bf8a-bc979ad9b880",
   "metadata": {},
   "outputs": [],
   "source": [
    "def evaluate_model(model, X_train, y_train, X_test,  y_test):\n",
    "    model = ctb.CatBoostClassifier(cat_features = cat_feats)\n",
    "    model.fit(X_train, y_train, verbose=False)\n",
    "    y_pred = model.predict(X_test)\n",
    "    f1 = f1_score(y_test, y_pred)\n",
    "    roc = roc_auc_score(y_test, y_pred)\n",
    "    prec = precision_score(y_test, y_pred, average = 'binary')\n",
    "    rec = recall_score(y_test, y_pred, average='binary')\n",
    "    return {'f1': [f1], 'roc_auc': [roc], 'precision': [prec], 'recall': [rec]}\n",
    "    "
   ]
  },
  {
   "cell_type": "markdown",
   "id": "d69848d1-eb6c-4a38-aab5-caef82cbca05",
   "metadata": {},
   "source": [
    "Problem 1 \n",
    "take a dataset for the binary classification "
   ]
  },
  {
   "cell_type": "code",
   "execution_count": 3,
   "id": "6c2d55de-e261-4699-83c0-22c7492468e9",
   "metadata": {},
   "outputs": [
    {
     "data": {
      "text/html": [
       "<div>\n",
       "<style scoped>\n",
       "    .dataframe tbody tr th:only-of-type {\n",
       "        vertical-align: middle;\n",
       "    }\n",
       "\n",
       "    .dataframe tbody tr th {\n",
       "        vertical-align: top;\n",
       "    }\n",
       "\n",
       "    .dataframe thead th {\n",
       "        text-align: right;\n",
       "    }\n",
       "</style>\n",
       "<table border=\"1\" class=\"dataframe\">\n",
       "  <thead>\n",
       "    <tr style=\"text-align: right;\">\n",
       "      <th></th>\n",
       "      <th>enrollee_id</th>\n",
       "      <th>city</th>\n",
       "      <th>city_development_index</th>\n",
       "      <th>gender</th>\n",
       "      <th>relevent_experience</th>\n",
       "      <th>enrolled_university</th>\n",
       "      <th>education_level</th>\n",
       "      <th>major_discipline</th>\n",
       "      <th>experience</th>\n",
       "      <th>company_size</th>\n",
       "      <th>company_type</th>\n",
       "      <th>last_new_job</th>\n",
       "      <th>training_hours</th>\n",
       "      <th>target</th>\n",
       "    </tr>\n",
       "  </thead>\n",
       "  <tbody>\n",
       "    <tr>\n",
       "      <th>0</th>\n",
       "      <td>8949</td>\n",
       "      <td>city_103</td>\n",
       "      <td>0.920</td>\n",
       "      <td>Male</td>\n",
       "      <td>Has relevent experience</td>\n",
       "      <td>no_enrollment</td>\n",
       "      <td>Graduate</td>\n",
       "      <td>STEM</td>\n",
       "      <td>&gt;20</td>\n",
       "      <td>NaN</td>\n",
       "      <td>NaN</td>\n",
       "      <td>1</td>\n",
       "      <td>36</td>\n",
       "      <td>1.0</td>\n",
       "    </tr>\n",
       "    <tr>\n",
       "      <th>1</th>\n",
       "      <td>29725</td>\n",
       "      <td>city_40</td>\n",
       "      <td>0.776</td>\n",
       "      <td>Male</td>\n",
       "      <td>No relevent experience</td>\n",
       "      <td>no_enrollment</td>\n",
       "      <td>Graduate</td>\n",
       "      <td>STEM</td>\n",
       "      <td>15</td>\n",
       "      <td>50-99</td>\n",
       "      <td>Pvt Ltd</td>\n",
       "      <td>&gt;4</td>\n",
       "      <td>47</td>\n",
       "      <td>0.0</td>\n",
       "    </tr>\n",
       "    <tr>\n",
       "      <th>2</th>\n",
       "      <td>11561</td>\n",
       "      <td>city_21</td>\n",
       "      <td>0.624</td>\n",
       "      <td>NaN</td>\n",
       "      <td>No relevent experience</td>\n",
       "      <td>Full time course</td>\n",
       "      <td>Graduate</td>\n",
       "      <td>STEM</td>\n",
       "      <td>5</td>\n",
       "      <td>NaN</td>\n",
       "      <td>NaN</td>\n",
       "      <td>never</td>\n",
       "      <td>83</td>\n",
       "      <td>0.0</td>\n",
       "    </tr>\n",
       "    <tr>\n",
       "      <th>3</th>\n",
       "      <td>33241</td>\n",
       "      <td>city_115</td>\n",
       "      <td>0.789</td>\n",
       "      <td>NaN</td>\n",
       "      <td>No relevent experience</td>\n",
       "      <td>NaN</td>\n",
       "      <td>Graduate</td>\n",
       "      <td>Business Degree</td>\n",
       "      <td>&lt;1</td>\n",
       "      <td>NaN</td>\n",
       "      <td>Pvt Ltd</td>\n",
       "      <td>never</td>\n",
       "      <td>52</td>\n",
       "      <td>1.0</td>\n",
       "    </tr>\n",
       "    <tr>\n",
       "      <th>4</th>\n",
       "      <td>666</td>\n",
       "      <td>city_162</td>\n",
       "      <td>0.767</td>\n",
       "      <td>Male</td>\n",
       "      <td>Has relevent experience</td>\n",
       "      <td>no_enrollment</td>\n",
       "      <td>Masters</td>\n",
       "      <td>STEM</td>\n",
       "      <td>&gt;20</td>\n",
       "      <td>50-99</td>\n",
       "      <td>Funded Startup</td>\n",
       "      <td>4</td>\n",
       "      <td>8</td>\n",
       "      <td>0.0</td>\n",
       "    </tr>\n",
       "  </tbody>\n",
       "</table>\n",
       "</div>"
      ],
      "text/plain": [
       "   enrollee_id      city  city_development_index gender  \\\n",
       "0         8949  city_103                   0.920   Male   \n",
       "1        29725   city_40                   0.776   Male   \n",
       "2        11561   city_21                   0.624    NaN   \n",
       "3        33241  city_115                   0.789    NaN   \n",
       "4          666  city_162                   0.767   Male   \n",
       "\n",
       "       relevent_experience enrolled_university education_level  \\\n",
       "0  Has relevent experience       no_enrollment        Graduate   \n",
       "1   No relevent experience       no_enrollment        Graduate   \n",
       "2   No relevent experience    Full time course        Graduate   \n",
       "3   No relevent experience                 NaN        Graduate   \n",
       "4  Has relevent experience       no_enrollment         Masters   \n",
       "\n",
       "  major_discipline experience company_size    company_type last_new_job  \\\n",
       "0             STEM        >20          NaN             NaN            1   \n",
       "1             STEM         15        50-99         Pvt Ltd           >4   \n",
       "2             STEM          5          NaN             NaN        never   \n",
       "3  Business Degree         <1          NaN         Pvt Ltd        never   \n",
       "4             STEM        >20        50-99  Funded Startup            4   \n",
       "\n",
       "   training_hours  target  \n",
       "0              36     1.0  \n",
       "1              47     0.0  \n",
       "2              83     0.0  \n",
       "3              52     1.0  \n",
       "4               8     0.0  "
      ]
     },
     "execution_count": 3,
     "metadata": {},
     "output_type": "execute_result"
    }
   ],
   "source": [
    "df = pd.read_csv('aug_train.csv')\n",
    "df.head()"
   ]
  },
  {
   "cell_type": "code",
   "execution_count": 4,
   "id": "28423854-8e7d-4adb-8207-5de601233079",
   "metadata": {},
   "outputs": [
    {
     "data": {
      "text/plain": [
       "(19158, 14)"
      ]
     },
     "execution_count": 4,
     "metadata": {},
     "output_type": "execute_result"
    }
   ],
   "source": [
    "df.shape"
   ]
  },
  {
   "cell_type": "code",
   "execution_count": 5,
   "id": "bf0e0a2a-994f-4dd8-8ced-63d5ccb63d6a",
   "metadata": {},
   "outputs": [
    {
     "name": "stdout",
     "output_type": "stream",
     "text": [
      "<class 'pandas.core.frame.DataFrame'>\n",
      "RangeIndex: 19158 entries, 0 to 19157\n",
      "Data columns (total 14 columns):\n",
      " #   Column                  Non-Null Count  Dtype  \n",
      "---  ------                  --------------  -----  \n",
      " 0   enrollee_id             19158 non-null  int64  \n",
      " 1   city                    19158 non-null  object \n",
      " 2   city_development_index  19158 non-null  float64\n",
      " 3   gender                  14650 non-null  object \n",
      " 4   relevent_experience     19158 non-null  object \n",
      " 5   enrolled_university     18772 non-null  object \n",
      " 6   education_level         18698 non-null  object \n",
      " 7   major_discipline        16345 non-null  object \n",
      " 8   experience              19093 non-null  object \n",
      " 9   company_size            13220 non-null  object \n",
      " 10  company_type            13018 non-null  object \n",
      " 11  last_new_job            18735 non-null  object \n",
      " 12  training_hours          19158 non-null  int64  \n",
      " 13  target                  19158 non-null  float64\n",
      "dtypes: float64(2), int64(2), object(10)\n",
      "memory usage: 2.0+ MB\n"
     ]
    }
   ],
   "source": [
    "df.info()"
   ]
  },
  {
   "cell_type": "code",
   "execution_count": 6,
   "id": "763fe2b3-d998-477d-8961-f679b53937fa",
   "metadata": {},
   "outputs": [],
   "source": [
    "df = df.drop(columns=['enrollee_id'])"
   ]
  },
  {
   "cell_type": "code",
   "execution_count": 7,
   "id": "40da71f7-bd7b-46e2-9297-e974e2fe83ac",
   "metadata": {},
   "outputs": [],
   "source": [
    "df['target'] = df['target'].astype(int)"
   ]
  },
  {
   "cell_type": "code",
   "execution_count": 8,
   "id": "7ab3e12c-f583-46cb-8ff8-94983c7a8d40",
   "metadata": {},
   "outputs": [
    {
     "data": {
      "text/plain": [
       "0    14381\n",
       "1     4777\n",
       "Name: target, dtype: int64"
      ]
     },
     "execution_count": 8,
     "metadata": {},
     "output_type": "execute_result"
    }
   ],
   "source": [
    "df['target'].value_counts()"
   ]
  },
  {
   "cell_type": "markdown",
   "id": "f5c7484c-8233-430f-81df-a303fdd5444c",
   "metadata": {},
   "source": [
    "Problem2 - feature engineering "
   ]
  },
  {
   "cell_type": "code",
   "execution_count": 9,
   "id": "a3ad38e9-86ea-4379-bde0-7a1fc58799b4",
   "metadata": {},
   "outputs": [],
   "source": [
    "for col in df.select_dtypes('object').columns:\n",
    "    df[col] = df[col].fillna(df[col].value_counts().index[0])"
   ]
  },
  {
   "cell_type": "code",
   "execution_count": 10,
   "id": "6090fdcc-f893-4c79-86ec-2c0ab06fd7e3",
   "metadata": {},
   "outputs": [
    {
     "data": {
      "text/html": [
       "<div>\n",
       "<style scoped>\n",
       "    .dataframe tbody tr th:only-of-type {\n",
       "        vertical-align: middle;\n",
       "    }\n",
       "\n",
       "    .dataframe tbody tr th {\n",
       "        vertical-align: top;\n",
       "    }\n",
       "\n",
       "    .dataframe thead th {\n",
       "        text-align: right;\n",
       "    }\n",
       "</style>\n",
       "<table border=\"1\" class=\"dataframe\">\n",
       "  <thead>\n",
       "    <tr style=\"text-align: right;\">\n",
       "      <th></th>\n",
       "      <th>city</th>\n",
       "      <th>city_development_index</th>\n",
       "      <th>gender</th>\n",
       "      <th>relevent_experience</th>\n",
       "      <th>enrolled_university</th>\n",
       "      <th>education_level</th>\n",
       "      <th>major_discipline</th>\n",
       "      <th>experience</th>\n",
       "      <th>company_size</th>\n",
       "      <th>company_type</th>\n",
       "      <th>last_new_job</th>\n",
       "      <th>training_hours</th>\n",
       "      <th>target</th>\n",
       "    </tr>\n",
       "  </thead>\n",
       "  <tbody>\n",
       "    <tr>\n",
       "      <th>0</th>\n",
       "      <td>city_103</td>\n",
       "      <td>0.920</td>\n",
       "      <td>Male</td>\n",
       "      <td>Has relevent experience</td>\n",
       "      <td>no_enrollment</td>\n",
       "      <td>Graduate</td>\n",
       "      <td>STEM</td>\n",
       "      <td>&gt;20</td>\n",
       "      <td>50-99</td>\n",
       "      <td>Pvt Ltd</td>\n",
       "      <td>1</td>\n",
       "      <td>36</td>\n",
       "      <td>1</td>\n",
       "    </tr>\n",
       "    <tr>\n",
       "      <th>1</th>\n",
       "      <td>city_40</td>\n",
       "      <td>0.776</td>\n",
       "      <td>Male</td>\n",
       "      <td>No relevent experience</td>\n",
       "      <td>no_enrollment</td>\n",
       "      <td>Graduate</td>\n",
       "      <td>STEM</td>\n",
       "      <td>15</td>\n",
       "      <td>50-99</td>\n",
       "      <td>Pvt Ltd</td>\n",
       "      <td>&gt;4</td>\n",
       "      <td>47</td>\n",
       "      <td>0</td>\n",
       "    </tr>\n",
       "    <tr>\n",
       "      <th>2</th>\n",
       "      <td>city_21</td>\n",
       "      <td>0.624</td>\n",
       "      <td>Male</td>\n",
       "      <td>No relevent experience</td>\n",
       "      <td>Full time course</td>\n",
       "      <td>Graduate</td>\n",
       "      <td>STEM</td>\n",
       "      <td>5</td>\n",
       "      <td>50-99</td>\n",
       "      <td>Pvt Ltd</td>\n",
       "      <td>never</td>\n",
       "      <td>83</td>\n",
       "      <td>0</td>\n",
       "    </tr>\n",
       "    <tr>\n",
       "      <th>3</th>\n",
       "      <td>city_115</td>\n",
       "      <td>0.789</td>\n",
       "      <td>Male</td>\n",
       "      <td>No relevent experience</td>\n",
       "      <td>no_enrollment</td>\n",
       "      <td>Graduate</td>\n",
       "      <td>Business Degree</td>\n",
       "      <td>&lt;1</td>\n",
       "      <td>50-99</td>\n",
       "      <td>Pvt Ltd</td>\n",
       "      <td>never</td>\n",
       "      <td>52</td>\n",
       "      <td>1</td>\n",
       "    </tr>\n",
       "    <tr>\n",
       "      <th>4</th>\n",
       "      <td>city_162</td>\n",
       "      <td>0.767</td>\n",
       "      <td>Male</td>\n",
       "      <td>Has relevent experience</td>\n",
       "      <td>no_enrollment</td>\n",
       "      <td>Masters</td>\n",
       "      <td>STEM</td>\n",
       "      <td>&gt;20</td>\n",
       "      <td>50-99</td>\n",
       "      <td>Funded Startup</td>\n",
       "      <td>4</td>\n",
       "      <td>8</td>\n",
       "      <td>0</td>\n",
       "    </tr>\n",
       "  </tbody>\n",
       "</table>\n",
       "</div>"
      ],
      "text/plain": [
       "       city  city_development_index gender      relevent_experience  \\\n",
       "0  city_103                   0.920   Male  Has relevent experience   \n",
       "1   city_40                   0.776   Male   No relevent experience   \n",
       "2   city_21                   0.624   Male   No relevent experience   \n",
       "3  city_115                   0.789   Male   No relevent experience   \n",
       "4  city_162                   0.767   Male  Has relevent experience   \n",
       "\n",
       "  enrolled_university education_level major_discipline experience  \\\n",
       "0       no_enrollment        Graduate             STEM        >20   \n",
       "1       no_enrollment        Graduate             STEM         15   \n",
       "2    Full time course        Graduate             STEM          5   \n",
       "3       no_enrollment        Graduate  Business Degree         <1   \n",
       "4       no_enrollment         Masters             STEM        >20   \n",
       "\n",
       "  company_size    company_type last_new_job  training_hours  target  \n",
       "0        50-99         Pvt Ltd            1              36       1  \n",
       "1        50-99         Pvt Ltd           >4              47       0  \n",
       "2        50-99         Pvt Ltd        never              83       0  \n",
       "3        50-99         Pvt Ltd        never              52       1  \n",
       "4        50-99  Funded Startup            4               8       0  "
      ]
     },
     "execution_count": 10,
     "metadata": {},
     "output_type": "execute_result"
    }
   ],
   "source": [
    "df.head()"
   ]
  },
  {
   "cell_type": "code",
   "execution_count": 27,
   "id": "44f057e2-24d1-4022-ad41-e51c93d01a4c",
   "metadata": {},
   "outputs": [],
   "source": [
    "X_train, X_test, y_train, y_test = train_test_split(df.drop(columns=['target']), df['target'], test_size=0.2, random_state=42)\n"
   ]
  },
  {
   "cell_type": "markdown",
   "id": "8388ea49-a7f1-4380-af00-b2bbeb067f6a",
   "metadata": {},
   "source": [
    "Problem3 Use any classificator"
   ]
  },
  {
   "cell_type": "code",
   "execution_count": 28,
   "id": "5315f4ce-b912-47e4-bfb3-9445d83f7ac5",
   "metadata": {},
   "outputs": [],
   "source": [
    "cat_feats =  ['city', 'gender', 'relevent_experience', 'enrolled_university', 'education_level',\n",
    "             'major_discipline', 'experience', 'company_size', 'company_type', 'last_new_job']"
   ]
  },
  {
   "cell_type": "code",
   "execution_count": 29,
   "id": "5e211c3e-d315-40c6-a0cd-b59bf1e15e3b",
   "metadata": {},
   "outputs": [],
   "source": [
    "metrics = pd.DataFrame(evaluate_model(ctb.CatBoostClassifier(cat_features=cat_feats),\n",
    "                                      X_train, y_train, X_test, y_test))"
   ]
  },
  {
   "cell_type": "code",
   "execution_count": 30,
   "id": "40aa9c53-216a-4e76-a2e6-60418245cc6c",
   "metadata": {},
   "outputs": [
    {
     "data": {
      "text/html": [
       "<div>\n",
       "<style scoped>\n",
       "    .dataframe tbody tr th:only-of-type {\n",
       "        vertical-align: middle;\n",
       "    }\n",
       "\n",
       "    .dataframe tbody tr th {\n",
       "        vertical-align: top;\n",
       "    }\n",
       "\n",
       "    .dataframe thead th {\n",
       "        text-align: right;\n",
       "    }\n",
       "</style>\n",
       "<table border=\"1\" class=\"dataframe\">\n",
       "  <thead>\n",
       "    <tr style=\"text-align: right;\">\n",
       "      <th></th>\n",
       "      <th>f1</th>\n",
       "      <th>roc_auc</th>\n",
       "      <th>precision</th>\n",
       "      <th>recall</th>\n",
       "    </tr>\n",
       "  </thead>\n",
       "  <tbody>\n",
       "    <tr>\n",
       "      <th>0</th>\n",
       "      <td>0.949807</td>\n",
       "      <td>0.952206</td>\n",
       "      <td>1.0</td>\n",
       "      <td>0.904412</td>\n",
       "    </tr>\n",
       "  </tbody>\n",
       "</table>\n",
       "</div>"
      ],
      "text/plain": [
       "         f1   roc_auc  precision    recall\n",
       "0  0.949807  0.952206        1.0  0.904412"
      ]
     },
     "execution_count": 30,
     "metadata": {},
     "output_type": "execute_result"
    }
   ],
   "source": [
    "metrics"
   ]
  },
  {
   "cell_type": "markdown",
   "id": "2922f8a9-0a65-420f-97cd-cb702ad74e40",
   "metadata": {},
   "source": [
    "Problem4 - split  the dataset on P (positives) и U (unlabeled) using only part of Positives"
   ]
  },
  {
   "cell_type": "code",
   "execution_count": 15,
   "id": "2cd72905-ff33-45da-9a1e-0358bc33ca68",
   "metadata": {},
   "outputs": [],
   "source": [
    "def create_unlabeled(df, pos_frac = 0.2):\n",
    "    sdf = df.copy()\n",
    "    pos_mask = (df['target'] == 1)\n",
    "    pos_ind = df[pos_mask].sample(frac=pos_frac).index\n",
    "    unlab_ind = df[~df.index.isin(pos_ind)].index\n",
    "    \n",
    "    df.loc[pos_ind, 'is_labeled'] =1\n",
    "    df.loc[unlab_ind, 'is_labeled'] = 0\n",
    "    df['is_labeled'] = df['is_labeled'].astype(int)\n",
    "    return df"
   ]
  },
  {
   "cell_type": "code",
   "execution_count": 16,
   "id": "e2700f10-0f51-426f-b9ea-03f78eee3e48",
   "metadata": {},
   "outputs": [],
   "source": [
    "rns_df = create_unlabeled(df, pos_frac=0.2)"
   ]
  },
  {
   "cell_type": "code",
   "execution_count": 17,
   "id": "7dd221d5-4004-4ffb-acb5-3f017d81fc39",
   "metadata": {},
   "outputs": [
    {
     "data": {
      "text/html": [
       "<div>\n",
       "<style scoped>\n",
       "    .dataframe tbody tr th:only-of-type {\n",
       "        vertical-align: middle;\n",
       "    }\n",
       "\n",
       "    .dataframe tbody tr th {\n",
       "        vertical-align: top;\n",
       "    }\n",
       "\n",
       "    .dataframe thead th {\n",
       "        text-align: right;\n",
       "    }\n",
       "</style>\n",
       "<table border=\"1\" class=\"dataframe\">\n",
       "  <thead>\n",
       "    <tr style=\"text-align: right;\">\n",
       "      <th></th>\n",
       "      <th>city</th>\n",
       "      <th>city_development_index</th>\n",
       "      <th>gender</th>\n",
       "      <th>relevent_experience</th>\n",
       "      <th>enrolled_university</th>\n",
       "      <th>education_level</th>\n",
       "      <th>major_discipline</th>\n",
       "      <th>experience</th>\n",
       "      <th>company_size</th>\n",
       "      <th>company_type</th>\n",
       "      <th>last_new_job</th>\n",
       "      <th>training_hours</th>\n",
       "      <th>target</th>\n",
       "      <th>is_labeled</th>\n",
       "    </tr>\n",
       "  </thead>\n",
       "  <tbody>\n",
       "    <tr>\n",
       "      <th>0</th>\n",
       "      <td>city_103</td>\n",
       "      <td>0.920</td>\n",
       "      <td>Male</td>\n",
       "      <td>Has relevent experience</td>\n",
       "      <td>no_enrollment</td>\n",
       "      <td>Graduate</td>\n",
       "      <td>STEM</td>\n",
       "      <td>&gt;20</td>\n",
       "      <td>50-99</td>\n",
       "      <td>Pvt Ltd</td>\n",
       "      <td>1</td>\n",
       "      <td>36</td>\n",
       "      <td>1</td>\n",
       "      <td>0</td>\n",
       "    </tr>\n",
       "    <tr>\n",
       "      <th>1</th>\n",
       "      <td>city_40</td>\n",
       "      <td>0.776</td>\n",
       "      <td>Male</td>\n",
       "      <td>No relevent experience</td>\n",
       "      <td>no_enrollment</td>\n",
       "      <td>Graduate</td>\n",
       "      <td>STEM</td>\n",
       "      <td>15</td>\n",
       "      <td>50-99</td>\n",
       "      <td>Pvt Ltd</td>\n",
       "      <td>&gt;4</td>\n",
       "      <td>47</td>\n",
       "      <td>0</td>\n",
       "      <td>0</td>\n",
       "    </tr>\n",
       "    <tr>\n",
       "      <th>2</th>\n",
       "      <td>city_21</td>\n",
       "      <td>0.624</td>\n",
       "      <td>Male</td>\n",
       "      <td>No relevent experience</td>\n",
       "      <td>Full time course</td>\n",
       "      <td>Graduate</td>\n",
       "      <td>STEM</td>\n",
       "      <td>5</td>\n",
       "      <td>50-99</td>\n",
       "      <td>Pvt Ltd</td>\n",
       "      <td>never</td>\n",
       "      <td>83</td>\n",
       "      <td>0</td>\n",
       "      <td>0</td>\n",
       "    </tr>\n",
       "  </tbody>\n",
       "</table>\n",
       "</div>"
      ],
      "text/plain": [
       "       city  city_development_index gender      relevent_experience  \\\n",
       "0  city_103                   0.920   Male  Has relevent experience   \n",
       "1   city_40                   0.776   Male   No relevent experience   \n",
       "2   city_21                   0.624   Male   No relevent experience   \n",
       "\n",
       "  enrolled_university education_level major_discipline experience  \\\n",
       "0       no_enrollment        Graduate             STEM        >20   \n",
       "1       no_enrollment        Graduate             STEM         15   \n",
       "2    Full time course        Graduate             STEM          5   \n",
       "\n",
       "  company_size company_type last_new_job  training_hours  target  is_labeled  \n",
       "0        50-99      Pvt Ltd            1              36       1           0  \n",
       "1        50-99      Pvt Ltd           >4              47       0           0  \n",
       "2        50-99      Pvt Ltd        never              83       0           0  "
      ]
     },
     "execution_count": 17,
     "metadata": {},
     "output_type": "execute_result"
    }
   ],
   "source": [
    "rns_df.head(3)"
   ]
  },
  {
   "cell_type": "code",
   "execution_count": 18,
   "id": "2bb294f0-bcd1-48d2-819b-f5246550652d",
   "metadata": {},
   "outputs": [],
   "source": [
    "x_data = rns_df.iloc[:,:-2].values # just the X \n",
    "y_labeled = rns_df.iloc[:,-1].values # new class (just the P & U)\n",
    "y_positive = rns_df.iloc[:,-2].values # original class"
   ]
  },
  {
   "cell_type": "markdown",
   "id": "1a006e09-77b4-4fb0-a4ab-33501e8c1d5a",
   "metadata": {},
   "source": [
    "Problem 5\n",
    "Apply Random Negative Samplings for building a crassifier in new conditions"
   ]
  },
  {
   "cell_type": "code",
   "execution_count": 19,
   "id": "a1280903-a66f-4fb9-8a3c-88228a2527a8",
   "metadata": {},
   "outputs": [],
   "source": [
    "def get_rns_samples(rns_df):\n",
    "    rns_df = rns_df.sample(frac=1)\n",
    "    \n",
    "    pos_sample = rns_df[rns_df['is_labeled'] == 1]\n",
    "    neg_sample = rns_df[rns_df['is_labeled'] == 0][:pos_sample.shape[0]]\n",
    "    train_sample = pd.concat([neg_sample, pos_sample]).sample(frac=1)\n",
    "    test_sample = rns_df[rns_df['is_labeled'] == 0][pos_sample.shape[0]:]\n",
    "    \n",
    "    return train_sample, test_sample"
   ]
  },
  {
   "cell_type": "code",
   "execution_count": 20,
   "id": "8e726c04-4858-4d8c-b343-27e6ffda817f",
   "metadata": {},
   "outputs": [],
   "source": [
    "train_sample, test_sample = get_rns_samples(rns_df)"
   ]
  },
  {
   "cell_type": "code",
   "execution_count": 21,
   "id": "0cbfa6bc-99c9-4685-9ec3-37fc44b7d5e1",
   "metadata": {},
   "outputs": [],
   "source": [
    "evaluate_metrics = evaluate_model(ctb.CatBoostClassifier(cat_features=cat_feats),\n",
    "                             train_sample.iloc[:, :-2],\n",
    "                             train_sample['is_labeled'],\n",
    "                             test_sample.iloc[:, :-2],\n",
    "                             test_sample['target'])"
   ]
  },
  {
   "cell_type": "code",
   "execution_count": 22,
   "id": "6b454bab-bc6c-443a-8eef-343efc1a04e3",
   "metadata": {},
   "outputs": [
    {
     "name": "stderr",
     "output_type": "stream",
     "text": [
      "/var/folders/g_/9v3q8zfn4dj84j48wgjpsd7c0000gn/T/ipykernel_6779/3915296841.py:1: FutureWarning: The frame.append method is deprecated and will be removed from pandas in a future version. Use pandas.concat instead.\n",
      "  metrics = metrics.append(pd.DataFrame(evaluate_metrics))\n"
     ]
    }
   ],
   "source": [
    "metrics = metrics.append(pd.DataFrame(evaluate_metrics))\n"
   ]
  },
  {
   "cell_type": "markdown",
   "id": "074b4d01-448e-4076-927f-53697e6de160",
   "metadata": {},
   "source": [
    "Problem 6 compare the model quality with solution in Problem 4 (creaate metric tab)"
   ]
  },
  {
   "cell_type": "code",
   "execution_count": 23,
   "id": "3e5f8109-0dcc-441f-bc66-346175630ef5",
   "metadata": {},
   "outputs": [],
   "source": [
    "metrics.index = ['normal', \"RNS\"]"
   ]
  },
  {
   "cell_type": "code",
   "execution_count": 24,
   "id": "5b67ea68-736e-4474-bcc8-ac65907c262c",
   "metadata": {},
   "outputs": [
    {
     "data": {
      "text/html": [
       "<div>\n",
       "<style scoped>\n",
       "    .dataframe tbody tr th:only-of-type {\n",
       "        vertical-align: middle;\n",
       "    }\n",
       "\n",
       "    .dataframe tbody tr th {\n",
       "        vertical-align: top;\n",
       "    }\n",
       "\n",
       "    .dataframe thead th {\n",
       "        text-align: right;\n",
       "    }\n",
       "</style>\n",
       "<table border=\"1\" class=\"dataframe\">\n",
       "  <thead>\n",
       "    <tr style=\"text-align: right;\">\n",
       "      <th></th>\n",
       "      <th>f1</th>\n",
       "      <th>roc_auc</th>\n",
       "      <th>precision</th>\n",
       "      <th>recall</th>\n",
       "    </tr>\n",
       "  </thead>\n",
       "  <tbody>\n",
       "    <tr>\n",
       "      <th>normal</th>\n",
       "      <td>0.499113</td>\n",
       "      <td>0.666604</td>\n",
       "      <td>0.571042</td>\n",
       "      <td>0.443277</td>\n",
       "    </tr>\n",
       "    <tr>\n",
       "      <th>RNS</th>\n",
       "      <td>0.523486</td>\n",
       "      <td>0.726774</td>\n",
       "      <td>0.403079</td>\n",
       "      <td>0.746471</td>\n",
       "    </tr>\n",
       "  </tbody>\n",
       "</table>\n",
       "</div>"
      ],
      "text/plain": [
       "              f1   roc_auc  precision    recall\n",
       "normal  0.499113  0.666604   0.571042  0.443277\n",
       "RNS     0.523486  0.726774   0.403079  0.746471"
      ]
     },
     "execution_count": 24,
     "metadata": {},
     "output_type": "execute_result"
    }
   ],
   "source": [
    "metrics"
   ]
  },
  {
   "cell_type": "markdown",
   "id": "d2c3caa3-9e72-42bf-8558-de14b0c44baf",
   "metadata": {},
   "source": [
    "RNS predicted better than the model in Problem 4. Recall is increased, but precision in decreased, and more observations are in Positive class"
   ]
  },
  {
   "cell_type": "markdown",
   "id": "dcc2d68f-639b-440f-8b8c-aa14ed27fe0f",
   "metadata": {},
   "source": [
    "Problem 7 Experiment with P.How incressing/decreasing P would affect model quiality"
   ]
  },
  {
   "cell_type": "code",
   "execution_count": 25,
   "id": "59eea767-4b1b-4b6b-b655-16933a5cbd4f",
   "metadata": {},
   "outputs": [
    {
     "name": "stderr",
     "output_type": "stream",
     "text": [
      "/var/folders/g_/9v3q8zfn4dj84j48wgjpsd7c0000gn/T/ipykernel_6779/2191257272.py:11: FutureWarning: The frame.append method is deprecated and will be removed from pandas in a future version. Use pandas.concat instead.\n",
      "  rns_metrics = rns_metrics.append(pd.DataFrame(frac_metrics))\n",
      "/var/folders/g_/9v3q8zfn4dj84j48wgjpsd7c0000gn/T/ipykernel_6779/2191257272.py:11: FutureWarning: The frame.append method is deprecated and will be removed from pandas in a future version. Use pandas.concat instead.\n",
      "  rns_metrics = rns_metrics.append(pd.DataFrame(frac_metrics))\n",
      "/var/folders/g_/9v3q8zfn4dj84j48wgjpsd7c0000gn/T/ipykernel_6779/2191257272.py:11: FutureWarning: The frame.append method is deprecated and will be removed from pandas in a future version. Use pandas.concat instead.\n",
      "  rns_metrics = rns_metrics.append(pd.DataFrame(frac_metrics))\n",
      "/var/folders/g_/9v3q8zfn4dj84j48wgjpsd7c0000gn/T/ipykernel_6779/2191257272.py:11: FutureWarning: The frame.append method is deprecated and will be removed from pandas in a future version. Use pandas.concat instead.\n",
      "  rns_metrics = rns_metrics.append(pd.DataFrame(frac_metrics))\n",
      "/var/folders/g_/9v3q8zfn4dj84j48wgjpsd7c0000gn/T/ipykernel_6779/2191257272.py:11: FutureWarning: The frame.append method is deprecated and will be removed from pandas in a future version. Use pandas.concat instead.\n",
      "  rns_metrics = rns_metrics.append(pd.DataFrame(frac_metrics))\n",
      "/var/folders/g_/9v3q8zfn4dj84j48wgjpsd7c0000gn/T/ipykernel_6779/2191257272.py:11: FutureWarning: The frame.append method is deprecated and will be removed from pandas in a future version. Use pandas.concat instead.\n",
      "  rns_metrics = rns_metrics.append(pd.DataFrame(frac_metrics))\n",
      "/var/folders/g_/9v3q8zfn4dj84j48wgjpsd7c0000gn/T/ipykernel_6779/2191257272.py:11: FutureWarning: The frame.append method is deprecated and will be removed from pandas in a future version. Use pandas.concat instead.\n",
      "  rns_metrics = rns_metrics.append(pd.DataFrame(frac_metrics))\n",
      "/var/folders/g_/9v3q8zfn4dj84j48wgjpsd7c0000gn/T/ipykernel_6779/2191257272.py:11: FutureWarning: The frame.append method is deprecated and will be removed from pandas in a future version. Use pandas.concat instead.\n",
      "  rns_metrics = rns_metrics.append(pd.DataFrame(frac_metrics))\n",
      "/var/folders/g_/9v3q8zfn4dj84j48wgjpsd7c0000gn/T/ipykernel_6779/2191257272.py:11: FutureWarning: The frame.append method is deprecated and will be removed from pandas in a future version. Use pandas.concat instead.\n",
      "  rns_metrics = rns_metrics.append(pd.DataFrame(frac_metrics))\n"
     ]
    }
   ],
   "source": [
    "rns_metrics = pd.DataFrame(columns=['f1', 'roc-auc', 'precision', 'recall'])\n",
    "\n",
    "fracs = np.linspace(0.1, 0.9, 9)\n",
    "for frac in fracs:\n",
    "    train_samples, test_samples = get_rns_samples(create_unlabeled(df, pos_frac= frac))\n",
    "    frac_metrics = evaluate_model(ctb.CatBoostClassifier(cat_features= cat_feats), \n",
    "                                  train_sample.iloc[:, :-2],\n",
    "                             train_sample['is_labeled'],\n",
    "                             test_sample.iloc[:, :-2],\n",
    "                             test_sample['target'])\n",
    "    rns_metrics = rns_metrics.append(pd.DataFrame(frac_metrics))"
   ]
  },
  {
   "cell_type": "code",
   "execution_count": 26,
   "id": "9c638b7b-c5e3-472b-aff0-4851206ab7d6",
   "metadata": {},
   "outputs": [
    {
     "data": {
      "text/html": [
       "<div>\n",
       "<style scoped>\n",
       "    .dataframe tbody tr th:only-of-type {\n",
       "        vertical-align: middle;\n",
       "    }\n",
       "\n",
       "    .dataframe tbody tr th {\n",
       "        vertical-align: top;\n",
       "    }\n",
       "\n",
       "    .dataframe thead th {\n",
       "        text-align: right;\n",
       "    }\n",
       "</style>\n",
       "<table border=\"1\" class=\"dataframe\">\n",
       "  <thead>\n",
       "    <tr style=\"text-align: right;\">\n",
       "      <th></th>\n",
       "      <th>f1</th>\n",
       "      <th>roc-auc</th>\n",
       "      <th>precision</th>\n",
       "      <th>recall</th>\n",
       "      <th>roc_auc</th>\n",
       "    </tr>\n",
       "  </thead>\n",
       "  <tbody>\n",
       "    <tr>\n",
       "      <th>0.1</th>\n",
       "      <td>0.523486</td>\n",
       "      <td>NaN</td>\n",
       "      <td>0.403079</td>\n",
       "      <td>0.746471</td>\n",
       "      <td>0.726774</td>\n",
       "    </tr>\n",
       "    <tr>\n",
       "      <th>0.2</th>\n",
       "      <td>0.523486</td>\n",
       "      <td>NaN</td>\n",
       "      <td>0.403079</td>\n",
       "      <td>0.746471</td>\n",
       "      <td>0.726774</td>\n",
       "    </tr>\n",
       "    <tr>\n",
       "      <th>0.3</th>\n",
       "      <td>0.523486</td>\n",
       "      <td>NaN</td>\n",
       "      <td>0.403079</td>\n",
       "      <td>0.746471</td>\n",
       "      <td>0.726774</td>\n",
       "    </tr>\n",
       "    <tr>\n",
       "      <th>0.4</th>\n",
       "      <td>0.523486</td>\n",
       "      <td>NaN</td>\n",
       "      <td>0.403079</td>\n",
       "      <td>0.746471</td>\n",
       "      <td>0.726774</td>\n",
       "    </tr>\n",
       "    <tr>\n",
       "      <th>0.5</th>\n",
       "      <td>0.523486</td>\n",
       "      <td>NaN</td>\n",
       "      <td>0.403079</td>\n",
       "      <td>0.746471</td>\n",
       "      <td>0.726774</td>\n",
       "    </tr>\n",
       "    <tr>\n",
       "      <th>0.6</th>\n",
       "      <td>0.523486</td>\n",
       "      <td>NaN</td>\n",
       "      <td>0.403079</td>\n",
       "      <td>0.746471</td>\n",
       "      <td>0.726774</td>\n",
       "    </tr>\n",
       "    <tr>\n",
       "      <th>0.7</th>\n",
       "      <td>0.523486</td>\n",
       "      <td>NaN</td>\n",
       "      <td>0.403079</td>\n",
       "      <td>0.746471</td>\n",
       "      <td>0.726774</td>\n",
       "    </tr>\n",
       "    <tr>\n",
       "      <th>0.8</th>\n",
       "      <td>0.523486</td>\n",
       "      <td>NaN</td>\n",
       "      <td>0.403079</td>\n",
       "      <td>0.746471</td>\n",
       "      <td>0.726774</td>\n",
       "    </tr>\n",
       "    <tr>\n",
       "      <th>0.9</th>\n",
       "      <td>0.523486</td>\n",
       "      <td>NaN</td>\n",
       "      <td>0.403079</td>\n",
       "      <td>0.746471</td>\n",
       "      <td>0.726774</td>\n",
       "    </tr>\n",
       "  </tbody>\n",
       "</table>\n",
       "</div>"
      ],
      "text/plain": [
       "           f1 roc-auc  precision    recall   roc_auc\n",
       "0.1  0.523486     NaN   0.403079  0.746471  0.726774\n",
       "0.2  0.523486     NaN   0.403079  0.746471  0.726774\n",
       "0.3  0.523486     NaN   0.403079  0.746471  0.726774\n",
       "0.4  0.523486     NaN   0.403079  0.746471  0.726774\n",
       "0.5  0.523486     NaN   0.403079  0.746471  0.726774\n",
       "0.6  0.523486     NaN   0.403079  0.746471  0.726774\n",
       "0.7  0.523486     NaN   0.403079  0.746471  0.726774\n",
       "0.8  0.523486     NaN   0.403079  0.746471  0.726774\n",
       "0.9  0.523486     NaN   0.403079  0.746471  0.726774"
      ]
     },
     "execution_count": 26,
     "metadata": {},
     "output_type": "execute_result"
    }
   ],
   "source": [
    "rns_metrics.index = fracs\n",
    "rns_metrics"
   ]
  },
  {
   "cell_type": "code",
   "execution_count": null,
   "id": "3b650dab-44aa-4003-b5d4-e9f87ffa392a",
   "metadata": {},
   "outputs": [],
   "source": []
  }
 ],
 "metadata": {
  "kernelspec": {
   "display_name": "Python 3 (ipykernel)",
   "language": "python",
   "name": "python3"
  },
  "language_info": {
   "codemirror_mode": {
    "name": "ipython",
    "version": 3
   },
   "file_extension": ".py",
   "mimetype": "text/x-python",
   "name": "python",
   "nbconvert_exporter": "python",
   "pygments_lexer": "ipython3",
   "version": "3.8.13"
  }
 },
 "nbformat": 4,
 "nbformat_minor": 5
}
